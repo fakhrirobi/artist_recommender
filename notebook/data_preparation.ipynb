{
 "cells": [
  {
   "cell_type": "code",
   "execution_count": 3,
   "metadata": {},
   "outputs": [],
   "source": [
    "import pandas as pd \n",
    "import numpy as np \n",
    "import os "
   ]
  },
  {
   "cell_type": "code",
   "execution_count": 17,
   "metadata": {},
   "outputs": [],
   "source": [
    "RAW_DIRECTORIES = '../data/raw'\n",
    "INTERIM_DIRECTORIES = '../data/interim'\n"
   ]
  },
  {
   "cell_type": "code",
   "execution_count": 12,
   "metadata": {},
   "outputs": [],
   "source": [
    "user_artists = os.path.join(RAW_DIRECTORIES,'user_artists.dat')\n",
    "user_artists_utility_count = pd.read_csv(user_artists,delimiter='\\t')\n",
    "save_name = 'interim_user_artists.csv'\n",
    "save_path = os.path.join(INTERIM_DIRECTORIES,save_name)\n",
    "user_artists_utility_count.to_csv(save_path,index=False)"
   ]
  },
  {
   "cell_type": "code",
   "execution_count": 14,
   "metadata": {},
   "outputs": [],
   "source": [
    "user_artists = os.path.join(RAW_DIRECTORIES,'artists.dat')\n",
    "user_artists_utility_count = pd.read_csv(user_artists,delimiter='\\t')\n",
    "save_name = 'interim_artists.csv'\n",
    "save_path = os.path.join(INTERIM_DIRECTORIES,save_name)\n",
    "user_artists_utility_count.to_csv(save_path,index=False)"
   ]
  },
  {
   "cell_type": "code",
   "execution_count": 19,
   "metadata": {},
   "outputs": [],
   "source": []
  },
  {
   "cell_type": "code",
   "execution_count": null,
   "metadata": {},
   "outputs": [],
   "source": []
  }
 ],
 "metadata": {
  "kernelspec": {
   "display_name": "recsys_project",
   "language": "python",
   "name": "python3"
  },
  "language_info": {
   "codemirror_mode": {
    "name": "ipython",
    "version": 3
   },
   "file_extension": ".py",
   "mimetype": "text/x-python",
   "name": "python",
   "nbconvert_exporter": "python",
   "pygments_lexer": "ipython3",
   "version": "3.10.9"
  },
  "orig_nbformat": 4
 },
 "nbformat": 4,
 "nbformat_minor": 2
}
